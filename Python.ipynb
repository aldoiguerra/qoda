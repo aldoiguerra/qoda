{
  "nbformat": 4,
  "nbformat_minor": 0,
  "metadata": {
    "colab": {
      "name": "Python.ipynb",
      "provenance": [],
      "collapsed_sections": [],
      "include_colab_link": true
    },
    "kernelspec": {
      "name": "python3",
      "display_name": "Python 3"
    }
  },
  "cells": [
    {
      "cell_type": "markdown",
      "metadata": {
        "id": "view-in-github",
        "colab_type": "text"
      },
      "source": [
        "<a href=\"https://colab.research.google.com/github/aldoiguerra/qoda/blob/master/Python.ipynb\" target=\"_parent\"><img src=\"https://colab.research.google.com/assets/colab-badge.svg\" alt=\"Open In Colab\"/></a>"
      ]
    },
    {
      "cell_type": "markdown",
      "metadata": {
        "id": "l16RNmVia3Gq",
        "colab_type": "text"
      },
      "source": [
        "# Python\n",
        "\n",
        "---\n",
        "\n"
      ]
    },
    {
      "cell_type": "markdown",
      "metadata": {
        "id": "blkXmaN4bwzU",
        "colab_type": "text"
      },
      "source": [
        "## Seu primeiro programa 🐣"
      ]
    },
    {
      "cell_type": "code",
      "metadata": {
        "id": "vBNGWECAa0eC",
        "colab_type": "code",
        "outputId": "02ef88cc-dc80-4d17-e68a-9e9c0b5629f8",
        "colab": {
          "base_uri": "https://localhost:8080/",
          "height": 51
        }
      },
      "source": [
        "nome = input(\"Qual é o seu nome? \")\n",
        "print(f\"Hello {nome}\")"
      ],
      "execution_count": 1,
      "outputs": [
        {
          "output_type": "stream",
          "text": [
            "Qual é o seu nome? Aldo\n",
            "Hello Aldo\n"
          ],
          "name": "stdout"
        }
      ]
    },
    {
      "cell_type": "markdown",
      "metadata": {
        "id": "fF86Y11CcH-t",
        "colab_type": "text"
      },
      "source": [
        "## Operadores\n",
        "### Aritméticos:\n",
        "![alt text](https://image.slidesharecdn.com/introduoapython-iijtims-mdulo1-131108230122-phpapp01/95/introduo-python-mdulo-1-46-638.jpg?cb=1383951826)\n",
        "### Lógicos:\n",
        "![alt text](https://image.slidesharecdn.com/apresentao-170510192311/95/captulo-2-python-6-638.jpg?cb=1494444228)"
      ]
    },
    {
      "cell_type": "code",
      "metadata": {
        "id": "9KiF8V3ocQZM",
        "colab_type": "code",
        "outputId": "1cb5131e-0662-4c99-c16b-5cafabfbec1f",
        "colab": {
          "base_uri": "https://localhost:8080/",
          "height": 34
        }
      },
      "source": [
        "# SOMA\n",
        "1+1"
      ],
      "execution_count": 6,
      "outputs": [
        {
          "output_type": "execute_result",
          "data": {
            "text/plain": [
              "2"
            ]
          },
          "metadata": {
            "tags": []
          },
          "execution_count": 6
        }
      ]
    },
    {
      "cell_type": "code",
      "metadata": {
        "id": "LX-sHjk2cS_m",
        "colab_type": "code",
        "outputId": "21c859d8-fdd6-44c8-92a0-5caeb3d3594e",
        "colab": {
          "base_uri": "https://localhost:8080/",
          "height": 34
        }
      },
      "source": [
        "# SUBTRAÇÃO\n",
        "1-1"
      ],
      "execution_count": 4,
      "outputs": [
        {
          "output_type": "execute_result",
          "data": {
            "text/plain": [
              "0"
            ]
          },
          "metadata": {
            "tags": []
          },
          "execution_count": 4
        }
      ]
    },
    {
      "cell_type": "code",
      "metadata": {
        "id": "4E7cwx1OcU9R",
        "colab_type": "code",
        "outputId": "480d154f-a90b-4f28-824d-ba6725403b76",
        "colab": {
          "base_uri": "https://localhost:8080/",
          "height": 34
        }
      },
      "source": [
        "# MULTIPLICAÇÃO\n",
        "1*10"
      ],
      "execution_count": 5,
      "outputs": [
        {
          "output_type": "execute_result",
          "data": {
            "text/plain": [
              "10"
            ]
          },
          "metadata": {
            "tags": []
          },
          "execution_count": 5
        }
      ]
    },
    {
      "cell_type": "code",
      "metadata": {
        "id": "fPVGehO0cXAn",
        "colab_type": "code",
        "outputId": "58d1ab68-4541-4f2a-f429-88d84cbc92a1",
        "colab": {
          "base_uri": "https://localhost:8080/",
          "height": 34
        }
      },
      "source": [
        "# DIVISÃO\n",
        "100 % 3"
      ],
      "execution_count": 7,
      "outputs": [
        {
          "output_type": "execute_result",
          "data": {
            "text/plain": [
              "1"
            ]
          },
          "metadata": {
            "tags": []
          },
          "execution_count": 7
        }
      ]
    },
    {
      "cell_type": "code",
      "metadata": {
        "id": "4G7MTi1IcZ1K",
        "colab_type": "code",
        "outputId": "81ebf159-791b-4a09-b1a0-567293ed84b4",
        "colab": {
          "base_uri": "https://localhost:8080/",
          "height": 34
        }
      },
      "source": [
        "# EXPONENCIAÇÃO\n",
        "4**2"
      ],
      "execution_count": 8,
      "outputs": [
        {
          "output_type": "execute_result",
          "data": {
            "text/plain": [
              "16"
            ]
          },
          "metadata": {
            "tags": []
          },
          "execution_count": 8
        }
      ]
    },
    {
      "cell_type": "code",
      "metadata": {
        "id": "5WZgLLHDdCcx",
        "colab_type": "code",
        "colab": {
          "base_uri": "https://localhost:8080/",
          "height": 51
        },
        "outputId": "f7a711bb-0046-41a0-afc9-052bdbb3850a"
      },
      "source": [
        "# DESAFIO PYTHON\n",
        "# Tendo como dados de entrada a altura de uma pessoa, construa um algoritmo que calcule seu peso ideal, usando a seguinte fórmula: (72.7*altura) - 58\n",
        "altura = input(\"Qual é sua altura? \")\n",
        "peso = 72.7 * float(altura) - 58\n",
        "print(f\"Seu peso ideal é {peso}\")"
      ],
      "execution_count": 11,
      "outputs": [
        {
          "output_type": "stream",
          "text": [
            "Qual é sua altura? 1.83\n",
            "Seu peso ideal é 75.041\n"
          ],
          "name": "stdout"
        }
      ]
    },
    {
      "cell_type": "markdown",
      "metadata": {
        "id": "iSVkee19DfVK",
        "colab_type": "text"
      },
      "source": [
        "## Tipos de Dados\n",
        "\n",
        "---\n",
        "\n",
        "* Inteiros:  declarados com **int()**\n",
        "<br>\n",
        "Exemplo de inteiros: 4, -234455, 21543...\n",
        "<br><br>\n",
        "* Flutuantes:  conhecidos como floating, são números decimais, declarados com **float()**\n",
        "<br>\n",
        "Exemplo de flutuantes: 4.0, -23.5, 215.43\n",
        "<br><br>\n",
        "* Booleanos:  conhecidos como lógicos, temos \"True\" ou \"False\", declarados com **bool()**\n",
        "<br>\n",
        "Exemplo de booleanos: True, False\n",
        "<br><br>\n",
        "* Strings:  conhecidos como cadeia de caracteres, inseridos entre aspas(duplas ou simples), declarados com **str()**\n",
        "<br>\n",
        "Exemplo de strings: \"oi!\", \"27\", \"23.50\""
      ]
    },
    {
      "cell_type": "code",
      "metadata": {
        "id": "OlMlroryFdgo",
        "colab_type": "code",
        "outputId": "4921739f-da8c-4c2c-8ebd-f67e03be3a50",
        "colab": {
          "base_uri": "https://localhost:8080/",
          "height": 34
        }
      },
      "source": [
        "inteiro = 12\n",
        "type(inteiro)"
      ],
      "execution_count": 0,
      "outputs": [
        {
          "output_type": "execute_result",
          "data": {
            "text/plain": [
              "int"
            ]
          },
          "metadata": {
            "tags": []
          },
          "execution_count": 3
        }
      ]
    },
    {
      "cell_type": "code",
      "metadata": {
        "id": "RzwqRmHBFpf3",
        "colab_type": "code",
        "outputId": "1967a06b-5f43-4d81-c625-80b24e83eed0",
        "colab": {
          "base_uri": "https://localhost:8080/",
          "height": 34
        }
      },
      "source": [
        "flutuante = 12.5\n",
        "type(flutuante)"
      ],
      "execution_count": 0,
      "outputs": [
        {
          "output_type": "execute_result",
          "data": {
            "text/plain": [
              "float"
            ]
          },
          "metadata": {
            "tags": []
          },
          "execution_count": 4
        }
      ]
    },
    {
      "cell_type": "code",
      "metadata": {
        "id": "4_ZeW7grFpos",
        "colab_type": "code",
        "outputId": "b3286e7f-0d4e-4e24-d7cb-08a5791281f3",
        "colab": {
          "base_uri": "https://localhost:8080/",
          "height": 34
        }
      },
      "source": [
        "booleano = True\n",
        "type(booleano)"
      ],
      "execution_count": 0,
      "outputs": [
        {
          "output_type": "execute_result",
          "data": {
            "text/plain": [
              "bool"
            ]
          },
          "metadata": {
            "tags": []
          },
          "execution_count": 5
        }
      ]
    },
    {
      "cell_type": "code",
      "metadata": {
        "id": "Wq9c8PjfFpyo",
        "colab_type": "code",
        "outputId": "41710b9d-bd2e-40eb-8ec9-87784ae0ae4a",
        "colab": {
          "base_uri": "https://localhost:8080/",
          "height": 34
        }
      },
      "source": [
        "caracter = \"Olá, mundo!\"\n",
        "type(caracter)"
      ],
      "execution_count": 0,
      "outputs": [
        {
          "output_type": "execute_result",
          "data": {
            "text/plain": [
              "str"
            ]
          },
          "metadata": {
            "tags": []
          },
          "execution_count": 6
        }
      ]
    },
    {
      "cell_type": "markdown",
      "metadata": {
        "id": "xQCkO867cpu1",
        "colab_type": "text"
      },
      "source": [
        "## Condicionais"
      ]
    },
    {
      "cell_type": "code",
      "metadata": {
        "id": "1dccn0dLcsG2",
        "colab_type": "code",
        "outputId": "2d20b82d-711a-43de-d01d-91dd2a43ff99",
        "colab": {
          "base_uri": "https://localhost:8080/",
          "height": 34
        }
      },
      "source": [
        "# IF\n",
        "if 100 > 99:\n",
        "  print(\"100 é maior que 99!\")"
      ],
      "execution_count": 0,
      "outputs": [
        {
          "output_type": "stream",
          "text": [
            "100 é maior que 99!\n"
          ],
          "name": "stdout"
        }
      ]
    },
    {
      "cell_type": "code",
      "metadata": {
        "id": "k56YVoZIddjj",
        "colab_type": "code",
        "outputId": "88903abe-f88b-4912-9ff5-b2339acd0915",
        "colab": {
          "base_uri": "https://localhost:8080/",
          "height": 34
        }
      },
      "source": [
        "# IF, ELSE\n",
        "if 100 == 99:\n",
        "  print(\"100 e 99 são iguais!\")\n",
        "else:\n",
        "  print(\"100 é diferente de 99\")\n"
      ],
      "execution_count": 0,
      "outputs": [
        {
          "output_type": "stream",
          "text": [
            "100 é diferente de 99\n"
          ],
          "name": "stdout"
        }
      ]
    },
    {
      "cell_type": "code",
      "metadata": {
        "id": "VM88dXCpdfpa",
        "colab_type": "code",
        "outputId": "cbb1921c-6cfc-45e5-a9ff-e625af8654a9",
        "colab": {
          "base_uri": "https://localhost:8080/",
          "height": 34
        }
      },
      "source": [
        "# IF, ELIF, ELSE\n",
        "if 100 == 99:\n",
        "  print(\"100 e 99 são iguais!\")\n",
        "elif 100 > 99:\n",
        "  print(\"100 é maior que 99!\")\n",
        "else:\n",
        "  print(\"100 é menor que 99!\")"
      ],
      "execution_count": 0,
      "outputs": [
        {
          "output_type": "stream",
          "text": [
            "100 é maior que 99!\n"
          ],
          "name": "stdout"
        }
      ]
    },
    {
      "cell_type": "code",
      "metadata": {
        "id": "gtOpJ0BfhQPa",
        "colab_type": "code",
        "colab": {
          "base_uri": "https://localhost:8080/",
          "height": 51
        },
        "outputId": "e9a605a7-3de2-4b65-983a-715495bcfd78"
      },
      "source": [
        "# DESAFIO CONDICIONAIS\n",
        "# Faça um Programa que pergunte em que turno você estuda. Peça para digitar M-matutino ou V-Vespertino ou N- Noturno. Imprima a mensagem \"Bom Dia!\", \"Boa Tarde!\" ou \"Boa Noite!\" ou \"Valor Inválido!\", conforme o caso.\n",
        "\n",
        "periodo = input(\"Qual é o periodo que voce estuda? (M-matutino ou V-Vespertino ou N- Noturno) \")\n",
        "if periodo == \"M\":\n",
        "  print(f\"Bom dia!\")\n",
        "elif periodo == \"V\":\n",
        "  print(f\"Bom tarde!\")\n",
        "else:\n",
        "  print(f\"Bom noite!\")\n"
      ],
      "execution_count": 15,
      "outputs": [
        {
          "output_type": "stream",
          "text": [
            "Qual é o periodo que voce estuda? (M-matutino ou V-Vespertino ou N- Noturno) M\n",
            "Bom dia!\n"
          ],
          "name": "stdout"
        }
      ]
    },
    {
      "cell_type": "markdown",
      "metadata": {
        "id": "fc85ML8bcsbR",
        "colab_type": "text"
      },
      "source": [
        "## Repetição"
      ]
    },
    {
      "cell_type": "code",
      "metadata": {
        "id": "Nfb90GWEcuRU",
        "colab_type": "code",
        "outputId": "3164c173-eff2-4db4-ca9a-91011c411078",
        "colab": {
          "base_uri": "https://localhost:8080/",
          "height": 119
        }
      },
      "source": [
        "# FOR\n",
        "for x in range(0,12,2):\n",
        "  print(x)"
      ],
      "execution_count": 0,
      "outputs": [
        {
          "output_type": "stream",
          "text": [
            "0\n",
            "2\n",
            "4\n",
            "6\n",
            "8\n",
            "10\n"
          ],
          "name": "stdout"
        }
      ]
    },
    {
      "cell_type": "code",
      "metadata": {
        "id": "-xotKE8ShlRy",
        "colab_type": "code",
        "outputId": "0353fff3-e2e3-4f6a-c884-c386d594ee00",
        "colab": {
          "base_uri": "https://localhost:8080/",
          "height": 136
        }
      },
      "source": [
        "palavra = \"PALAVRA\"\n",
        "for letra in palavra:\n",
        "  print(letra)"
      ],
      "execution_count": 0,
      "outputs": [
        {
          "output_type": "stream",
          "text": [
            "P\n",
            "A\n",
            "L\n",
            "A\n",
            "V\n",
            "R\n",
            "A\n"
          ],
          "name": "stdout"
        }
      ]
    },
    {
      "cell_type": "code",
      "metadata": {
        "id": "a4X4aY2Xhem0",
        "colab_type": "code",
        "colab": {}
      },
      "source": [
        "# WHILE\n",
        "num = 0\n",
        "while True:\n",
        "       print(num)\n",
        "       num   = num + 1"
      ],
      "execution_count": 0,
      "outputs": []
    },
    {
      "cell_type": "code",
      "metadata": {
        "id": "sWINJQ81dThC",
        "colab_type": "code",
        "colab": {}
      },
      "source": [
        "# DESAFIO REPETIÇÃO\n",
        "# A série de Fibonacci é formada pela seqüência 1,1,2,3,5,8,13,21,34,55,... Faça um programa capaz de gerar a série até o n−ésimo termo.\n",
        "# qual numero voce deseja receber a sequencia fibonacci? 34\n"
      ],
      "execution_count": 0,
      "outputs": []
    },
    {
      "cell_type": "markdown",
      "metadata": {
        "id": "lm-dZvAocvaa",
        "colab_type": "text"
      },
      "source": [
        "## Funções"
      ]
    },
    {
      "cell_type": "code",
      "metadata": {
        "id": "vfQJFzuncxuz",
        "colab_type": "code",
        "outputId": "a2fa5ce2-cffe-4935-b7f5-1cf41dc8bbad",
        "colab": {
          "base_uri": "https://localhost:8080/",
          "height": 136
        }
      },
      "source": [
        "palavra = \"PALAVRA\"\n",
        "palavra.upper()"
      ],
      "execution_count": 0,
      "outputs": [
        {
          "output_type": "stream",
          "text": [
            "Help on method_descriptor:\n",
            "\n",
            "upper(...)\n",
            "    S.upper() -> str\n",
            "    \n",
            "    Return a copy of S converted to uppercase.\n",
            "\n"
          ],
          "name": "stdout"
        }
      ]
    },
    {
      "cell_type": "code",
      "metadata": {
        "id": "BkpGqILGjjzE",
        "colab_type": "code",
        "colab": {}
      },
      "source": [
        "def RaizQuadrada(x):\n",
        "  return x**2"
      ],
      "execution_count": 0,
      "outputs": []
    },
    {
      "cell_type": "code",
      "metadata": {
        "id": "n953bAgMju_J",
        "colab_type": "code",
        "outputId": "ab005463-c7e9-4905-f4ce-0333ae551f84",
        "colab": {
          "base_uri": "https://localhost:8080/",
          "height": 34
        }
      },
      "source": [
        "RaizQuadrada(2)"
      ],
      "execution_count": 0,
      "outputs": [
        {
          "output_type": "execute_result",
          "data": {
            "text/plain": [
              "4"
            ]
          },
          "metadata": {
            "tags": []
          },
          "execution_count": 31
        }
      ]
    },
    {
      "cell_type": "code",
      "metadata": {
        "id": "IWE_rUvBigeT",
        "colab_type": "code",
        "colab": {}
      },
      "source": [
        "# DESAFIO FUNÇÕES\n",
        "# Reverso do número. Faça uma função que retorne o reverso de um número inteiro informado. Por exemplo: 127 -> 721."
      ],
      "execution_count": 0,
      "outputs": []
    }
  ]
}